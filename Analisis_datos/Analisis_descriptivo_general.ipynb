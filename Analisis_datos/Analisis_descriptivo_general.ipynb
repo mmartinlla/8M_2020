{
 "cells": [
  {
   "cell_type": "code",
   "execution_count": 1,
   "metadata": {},
   "outputs": [],
   "source": [
    "# Import all necessary libraries.\n",
    "import networkx as nx\n",
    "from pathlib import Path\n",
    "import pandas as pd"
   ]
  },
  {
   "cell_type": "markdown",
   "metadata": {},
   "source": [
    "ANÁLISIS GRAFO PRE-8M"
   ]
  },
  {
   "cell_type": "code",
   "execution_count": 2,
   "metadata": {},
   "outputs": [],
   "source": [
    "# Define the folder where the graph file is located.\n",
    "file_pre_8M = r'C:\\UOC\\TFM\\Analisis\\pre_8M\\analisis_despues_de_limpieza\\grafo_pre_8M.graphml'"
   ]
  },
  {
   "cell_type": "code",
   "execution_count": 3,
   "metadata": {},
   "outputs": [],
   "source": [
    "# Import the graph file.\n",
    "grafo_pre_8M = nx.read_graphml(file_pre_8M)"
   ]
  },
  {
   "cell_type": "code",
   "execution_count": 4,
   "metadata": {},
   "outputs": [
    {
     "name": "stdout",
     "output_type": "stream",
     "text": [
      "El grafo resultante tiene un total de 46237 nodos y 92016 aristas.\n",
      "Su densidad es: 4.304209951233492e-05.\n"
     ]
    }
   ],
   "source": [
    "# Check number of nodes and archs, and density calculation.\n",
    "print(\"El grafo resultante tiene un total de {} nodos y {} aristas.\".format(grafo_pre_8M.number_of_nodes(), grafo_pre_8M.number_of_edges()))\n",
    "print(\"Su densidad es: {}.\".format(nx.density(grafo_pre_8M)))"
   ]
  },
  {
   "cell_type": "markdown",
   "metadata": {},
   "source": [
    "ANÁLISIS GRAFO 8M"
   ]
  },
  {
   "cell_type": "code",
   "execution_count": 6,
   "metadata": {},
   "outputs": [],
   "source": [
    "# Define the folder where the graph file is located.\n",
    "file_8M = r'C:\\UOC\\TFM\\Analisis\\8M\\analisis_despues_de_limpieza\\grafo_8M.graphml'"
   ]
  },
  {
   "cell_type": "code",
   "execution_count": 7,
   "metadata": {},
   "outputs": [],
   "source": [
    "# Import the graph file.\n",
    "grafo_8M = nx.read_graphml(file_8M)"
   ]
  },
  {
   "cell_type": "code",
   "execution_count": 8,
   "metadata": {},
   "outputs": [
    {
     "name": "stdout",
     "output_type": "stream",
     "text": [
      "El grafo resultante tiene un total de 193890 nodos y 384367 aristas.\n",
      "Su densidad es: 1.0224392490269835e-05.\n"
     ]
    }
   ],
   "source": [
    "# Check number of nodes and archs, and density calculation.\n",
    "print(\"El grafo resultante tiene un total de {} nodos y {} aristas.\".format(grafo_8M.number_of_nodes(), grafo_8M.number_of_edges()))\n",
    "print(\"Su densidad es: {}.\".format(nx.density(grafo_8M)))"
   ]
  },
  {
   "cell_type": "markdown",
   "metadata": {},
   "source": [
    "ANÁLISIS GRAFO POST-8M"
   ]
  },
  {
   "cell_type": "code",
   "execution_count": 10,
   "metadata": {},
   "outputs": [],
   "source": [
    "# Define the folder where the graph file is located.\n",
    "file_post_8M = r'C:\\UOC\\TFM\\Analisis\\post_8M\\analisis_despues_de_limpieza\\grafo_post_8M.graphml'"
   ]
  },
  {
   "cell_type": "code",
   "execution_count": 11,
   "metadata": {},
   "outputs": [],
   "source": [
    "# Import the graph file.\n",
    "grafo_post_8M = nx.read_graphml(file_post_8M)"
   ]
  },
  {
   "cell_type": "code",
   "execution_count": 12,
   "metadata": {},
   "outputs": [
    {
     "name": "stdout",
     "output_type": "stream",
     "text": [
      "El grafo resultante tiene un total de 54169 nodos y 89308 aristas.\n",
      "Su densidad es: 3.0436642599730254e-05.\n"
     ]
    }
   ],
   "source": [
    "# Check number of nodes and archs, and density calculation.\n",
    "print(\"El grafo resultante tiene un total de {} nodos y {} aristas.\".format(grafo_post_8M.number_of_nodes(), grafo_post_8M.number_of_edges()))\n",
    "print(\"Su densidad es: {}.\".format(nx.density(grafo_post_8M)))"
   ]
  }
 ],
 "metadata": {
  "kernelspec": {
   "display_name": "Python 3",
   "language": "python",
   "name": "python3"
  },
  "language_info": {
   "codemirror_mode": {
    "name": "ipython",
    "version": 3
   },
   "file_extension": ".py",
   "mimetype": "text/x-python",
   "name": "python",
   "nbconvert_exporter": "python",
   "pygments_lexer": "ipython3",
   "version": "3.7.0"
  }
 },
 "nbformat": 4,
 "nbformat_minor": 2
}
