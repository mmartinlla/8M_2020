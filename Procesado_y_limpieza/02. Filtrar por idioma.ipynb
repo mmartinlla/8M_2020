{
 "cells": [
  {
   "cell_type": "code",
   "execution_count": 1,
   "metadata": {},
   "outputs": [],
   "source": [
    "# We import all necessary libraries.\n",
    "from collections import Counter\n",
    "from pathlib import Path\n",
    "import ujson\n",
    "import glob\n"
   ]
  },
  {
   "cell_type": "code",
   "execution_count": 2,
   "metadata": {
    "scrolled": true
   },
   "outputs": [],
   "source": [
    "# Input folder.\n",
    "folder = r'C:\\UOC\\TFM\\Procesado_tweets\\01_Clasificacion_por_fecha'\n",
    "\n",
    "# List that will contain the languages of all tweets.\n",
    "list_languages = []\n",
    "\n",
    "# Iterate over all files located in the defined folder.\n",
    "for file in Path(folder).glob('*.json'):\n",
    "    # For each line of the file.\n",
    "    for line in open(file, 'r', encoding=\"utf8\"):\n",
    "        # Skip empty lines.\n",
    "        if not line.strip (): \n",
    "            continue\n",
    "        # If the line contains a tweet.\n",
    "        if line.startswith('{\"created_at\":') or line.startswith('{\"contributors\":'):\n",
    "            # Get the language in which it was published.    \n",
    "            tweet_language = ujson.loads(line)['lang']\n",
    "            # Add the language in the list of languages.\n",
    "            list_languages.append(tweet_language)\n",
    "\n"
   ]
  },
  {
   "cell_type": "code",
   "execution_count": 3,
   "metadata": {},
   "outputs": [
    {
     "name": "stdout",
     "output_type": "stream",
     "text": [
      "Counter({'es': 1409373, 'und': 117540, 'ca': 72180, 'pt': 58098, 'en': 26968, 'it': 20946, 'tr': 15848, 'fr': 7377, 'de': 2952, 'eu': 2565, 'ja': 1332, 'et': 377, 'in': 366, 'tl': 303, 'pl': 261, 'ru': 224, 'ht': 191, 'ro': 136, 'ko': 130, 'fa': 127, 'cy': 116, 'el': 104, 'lt': 97, 'fi': 83, 'is': 80, 'hu': 75, 'cs': 67, 'da': 67, 'bn': 66, 'no': 65, 'ar': 63, 'nl': 61, 'sv': 43, 'lv': 40, 'zh': 21, 'ur': 14, 'vi': 12, 'sl': 10, 'hi': 9, 'ckb': 7, 'th': 3, 'sr': 1, 'ka': 1, 'iw': 1})\n"
     ]
    }
   ],
   "source": [
    "# Print a list with the unique languages and their frequency.\n",
    "print(Counter(list_languages))"
   ]
  },
  {
   "cell_type": "markdown",
   "metadata": {},
   "source": [
    "https://support.gnip.com/apis/powertrack2.0/rules.html#Operators\n",
    "http://www.lingoes.net/en/translator/langcode.htm\n",
    "\n",
    "es: español\n",
    "und: indefinido \n",
    "ca: catalan\n",
    "pt: portugués\n",
    "en: inglés\n",
    "it: italiano\n",
    "tr: turco\n",
    "fr: francés\n",
    "de: alemán\n",
    "eu: vasco\n",
    "ja: japonés\n",
    "et: estonio\n",
    "in: indonesio\n",
    "tl: tagalo\n",
    "pl: polaco\n",
    "ru: ruso \n",
    "ht: haitiano\n",
    "ro: rumano\n",
    "ko: coreano\n",
    "fa: persa\n",
    "cy: galés\n",
    "el: griego\n",
    "lt: lituano\n",
    "fi: finés\n",
    "is: islandés\n",
    "cs: checo\n",
    "hu: húngaro\n",
    "da: danés\n",
    "bn: bengalí\n",
    "no: noruego\n",
    "ar: árabe\n",
    "nl: holandés\n",
    "sv: sueco\n",
    "lv: letón\n",
    "zh: chino\n",
    "ur: urdu\n",
    "vi: vietnamita\n",
    "hi: indio\n",
    "sl: esloveno\n",
    "ckb: kurdo\n",
    "th: tailandés\n",
    "sr: serbio\n",
    "ka: georgiano\n",
    "iw: hebreo"
   ]
  },
  {
   "cell_type": "code",
   "execution_count": 5,
   "metadata": {},
   "outputs": [],
   "source": [
    "# Output folders.\n",
    "file_6M = r'C:\\UOC\\TFM\\Procesado_tweets\\02_Idiomas_filtrados\\id_filt_6M.json'\n",
    "file_7M = r'C:\\UOC\\TFM\\Procesado_tweets\\02_Idiomas_filtrados\\id_filt_7M.json'\n",
    "file_8M = r'C:\\UOC\\TFM\\Procesado_tweets\\02_Idiomas_filtrados\\id_filt_8M.json'\n",
    "file_9M = r'C:\\UOC\\TFM\\Procesado_tweets\\02_Idiomas_filtrados\\id_filt_9M.json'\n",
    "file_10M = r'C:\\UOC\\TFM\\Procesado_tweets\\02_Idiomas_filtrados\\id_filt_10M.json'\n",
    "\n",
    "# Counters by date to know how many tweets are included in each file. \n",
    "count_6M = 0\n",
    "count_7M = 0\n",
    "count_8M = 0\n",
    "count_9M = 0\n",
    "count_10M = 0\n",
    "\n",
    "# Lists of languages by day.\n",
    "lang_6M = []\n",
    "lang_7M = []\n",
    "lang_8M = []\n",
    "lang_9M = []\n",
    "lang_10M = []\n",
    "\n",
    "# List with accepted languages for our study.\n",
    "accepted_lang = ['es', 'ca', 'eu', 'und']\n",
    "\n",
    "# Function that writes a tweet in a file and appends its language to the languages list by day.\n",
    "def write_and_append(file_by_date, list_lang):\n",
    "    with open(file_by_date, \"a\") as outfile: \n",
    "        outfile.write(line)\n",
    "    list_lang.append(tweet_language)\n",
    "\n",
    "\n",
    "# Iterate through all files located in the defined folder.\n",
    "for file in Path(folder).glob('*.json'):\n",
    "    # For each line of the file.\n",
    "    for line in open(file, 'r', encoding=\"utf8\"):\n",
    "        # Skip empty lines.\n",
    "        if not line.strip (): \n",
    "            continue\n",
    "        # If the line contains a tweet.\n",
    "        if line.startswith('{\"created_at\":') or line.startswith('{\"contributors\":'):\n",
    "            # Get the language in which it was published.     \n",
    "            tweet_language = ujson.loads(line)['lang']\n",
    "            # If the language is one of the accepted, write the tweet in the corresponding filtered file.\n",
    "            if tweet_language in accepted_lang:\n",
    "                if '6M' in file.name:\n",
    "                    write_and_append(file_6M, lang_6M)\n",
    "                    count_6M += 1                \n",
    "                elif '7M' in file.name:\n",
    "                    write_and_append(file_7M, lang_7M)\n",
    "                    count_7M += 1 \n",
    "                elif '8M' in file.name:\n",
    "                    write_and_append(file_8M, lang_8M)\n",
    "                    count_8M += 1                        \n",
    "                elif '9M' in file.name:\n",
    "                    write_and_append(file_9M, lang_9M)\n",
    "                    count_9M += 1                    \n",
    "                else: \n",
    "                    write_and_append(file_10M, lang_10M)\n",
    "                    count_10M += 1                     \n",
    "                                   \n",
    "                    "
   ]
  },
  {
   "cell_type": "code",
   "execution_count": 7,
   "metadata": {},
   "outputs": [
    {
     "name": "stdout",
     "output_type": "stream",
     "text": [
      "Número de tweets antes del 8M: 167738\n",
      "Número de tweets el 8M: 951821\n",
      "Número de tweets después del 8M: 482099\n",
      "\n",
      "Número de tweets por idioma antes del 8M: Counter({'es': 144432, 'ca': 17041, 'und': 5837, 'eu': 428})\n",
      "Número de tweets por idioma el 8M: Counter({'es': 830342, 'und': 75059, 'ca': 44628, 'eu': 1792})\n",
      "Número de tweets por idioma después del 8M: Counter({'es': 434599, 'und': 36644, 'ca': 10511, 'eu': 345})\n"
     ]
    }
   ],
   "source": [
    "# Print the number of tweets by date after filtering the language.\n",
    "print(\"Número de tweets antes del 8M: {}\".format(count_6M + count_7M))\n",
    "print(\"Número de tweets el 8M: {}\".format(count_8M))\n",
    "print(\"Número de tweets después del 8M: {}\\n\".format(count_9M + count_10M))\n",
    "print(\"Número de tweets por idioma antes del 8M: {}\".format(Counter(lang_6M) + Counter(lang_7M)))\n",
    "print(\"Número de tweets por idioma el 8M: {}\".format(Counter(lang_8M)))\n",
    "print(\"Número de tweets por idioma después del 8M: {}\".format(Counter(lang_9M) + Counter(lang_10M)))\n"
   ]
  }
 ],
 "metadata": {
  "kernelspec": {
   "display_name": "Python 3",
   "language": "python",
   "name": "python3"
  },
  "language_info": {
   "codemirror_mode": {
    "name": "ipython",
    "version": 3
   },
   "file_extension": ".py",
   "mimetype": "text/x-python",
   "name": "python",
   "nbconvert_exporter": "python",
   "pygments_lexer": "ipython3",
   "version": "3.7.0"
  }
 },
 "nbformat": 4,
 "nbformat_minor": 2
}
