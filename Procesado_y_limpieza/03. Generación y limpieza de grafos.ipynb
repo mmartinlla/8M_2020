{
 "cells": [
  {
   "cell_type": "code",
   "execution_count": 1,
   "metadata": {},
   "outputs": [],
   "source": [
    "# We import all necessary libraries.\n",
    "from pathlib import Path\n",
    "import ujson\n",
    "import glob\n",
    "import networkx as nx\n",
    "import matplotlib.pyplot as plt\n"
   ]
  },
  {
   "cell_type": "markdown",
   "metadata": {},
   "source": [
    "GENERACIÓN DE LOS GRAFOS"
   ]
  },
  {
   "cell_type": "code",
   "execution_count": 2,
   "metadata": {},
   "outputs": [],
   "source": [
    "# Function that generates a graph and returns it. Additionally it prints some statistics about the created graph.\n",
    "\n",
    "def create_graph(folder):\n",
    "    \n",
    "    # Counters for the type of tweet and errors.\n",
    "    retweet_count = 0\n",
    "    reply_count = 0\n",
    "    pure_quote_count = 0\n",
    "    just_ment_count = 0\n",
    "    simple_count = 0\n",
    "    errors = 0\n",
    "    # We create a directed graph.\n",
    "    twitter_dg = nx.DiGraph()\n",
    "    \n",
    "    for file in Path(folder).glob('*.json'):\n",
    "        # For each line of the file.\n",
    "        for line in open(file, 'r', encoding=\"utf8\"):\n",
    "            # Skip empty lines.\n",
    "            if not line.strip (): \n",
    "                continue\n",
    "            # If the line contains a tweet.\n",
    "            if line.startswith('{\"created_at\":') or line.startswith('{\"contributors\":'):\n",
    "                # The origin node is the user that has published a tweet.\n",
    "                origin = ujson.loads(line)['user']['screen_name']\n",
    "            \n",
    "                # If the tweet is a retweet:\n",
    "                if 'retweeted_status' in line:\n",
    "                    try:\n",
    "                        # Update the counter.\n",
    "                        retweet_count += 1\n",
    "                        # We create a list that will contain the user names that receive the interaction.\n",
    "                        destiny = []\n",
    "                        # The retweeted user is the first of the list.\n",
    "                        retweeted_user = ujson.loads(line)['retweeted_status']['user']['screen_name']\n",
    "                        destiny.append(retweeted_user)\n",
    "                        # We check if the origin user added extra destiny users by adding mentions to different users.\n",
    "                        tweet_mentions = ujson.loads(line)['entities']['user_mentions']\n",
    "                        if len(tweet_mentions) > 0:\n",
    "                            for mention in tweet_mentions:\n",
    "                                mentioned_user = mention['screen_name']\n",
    "                                if mentioned_user != retweeted_user:\n",
    "                                    destiny.append(mentioned_user)\n",
    "\n",
    "                        # We add edges between the origin and destiny nodes, updating their weights in case they exist.           \n",
    "                        for i in destiny:\n",
    "                            if twitter_dg.has_edge(origin, i):\n",
    "                                twitter_dg[origin][i]['weight'] += 1\n",
    "                            else:\n",
    "                                twitter_dg.add_edge(origin, i, weight = 1)\n",
    "                    except:\n",
    "                        errors += 1\n",
    "                        pass\n",
    "                        \n",
    "                # If the tweet is a reply:\n",
    "                elif ujson.loads(line)['in_reply_to_user_id']:\n",
    "                    try:\n",
    "                        reply_count += 1\n",
    "                        destiny = []\n",
    "                        replied_user = ujson.loads(line)['in_reply_to_screen_name']\n",
    "                        destiny.append(replied_user)\n",
    "                        tweet_mentions = ujson.loads(line)['entities']['user_mentions']\n",
    "                        if len(tweet_mentions) > 0:\n",
    "                            for mention in tweet_mentions:\n",
    "                                mentioned_user = mention['screen_name']\n",
    "                                if mentioned_user != replied_user:\n",
    "                                    destiny.append(mentioned_user)\n",
    "                        for i in destiny:\n",
    "                            if twitter_dg.has_edge(origin, i):\n",
    "                                twitter_dg[origin][i]['weight'] += 1\n",
    "                            else:\n",
    "                                twitter_dg.add_edge(origin, i, weight = 1)\n",
    "                    except:\n",
    "                        errors += 1\n",
    "                        pass\n",
    "                                \n",
    "                # If the tweet is a \"pure quote\":\n",
    "                elif 'quoted_status' in line:\n",
    "                    try:\n",
    "                        pure_quote_count += 1\n",
    "                        destiny = []\n",
    "                        quoted_user = ujson.loads(line)['quoted_status']['user']['screen_name']\n",
    "                        destiny.append(quoted_user)\n",
    "                        tweet_mentions = ujson.loads(line)['entities']['user_mentions']\n",
    "                        if len(tweet_mentions) > 0:\n",
    "                            for mention in tweet_mentions:\n",
    "                                mentioned_user = mention['screen_name']\n",
    "                                if mentioned_user != quoted_user:\n",
    "                                    destiny.append(mentioned_user)\n",
    "                        for i in destiny:\n",
    "                            if twitter_dg.has_edge(origin, i):\n",
    "                                twitter_dg[origin][i]['weight'] += 1\n",
    "                            else:\n",
    "                                twitter_dg.add_edge(origin, i, weight = 1)\n",
    "                    except:\n",
    "                        errors += 1\n",
    "                        pass\n",
    "                    \n",
    "                # If the tweet is a \"pure mention\":\n",
    "                elif len(ujson.loads(line)['entities']['user_mentions']) > 0:\n",
    "                    try:\n",
    "                        just_ment_count += 1\n",
    "                        destiny = []\n",
    "                        tweet_mentions = ujson.loads(line)['entities']['user_mentions']\n",
    "                        for mention in tweet_mentions:\n",
    "                            mentioned_user = mention['screen_name']\n",
    "                            destiny.append(mentioned_user)\n",
    "                        for i in destiny:\n",
    "                            if twitter_dg.has_edge(origin, i):\n",
    "                                twitter_dg[origin][i]['weight'] += 1\n",
    "                            else:\n",
    "                                twitter_dg.add_edge(origin, i, weight = 1)\n",
    "                    except:\n",
    "                        errors += 1\n",
    "                        pass\n",
    "                    \n",
    "                # The tweet is simple.    \n",
    "                else:\n",
    "                    simple_count += 1\n",
    "                \n",
    "    \n",
    "    total_tweets = retweet_count + reply_count + pure_quote_count + just_ment_count + simple_count\n",
    "    \n",
    "    print(\"ESTADÍSTICAS DEL GRAFO OBTENIDO:\\n\")\n",
    "\n",
    "    print('Número total de tweets procesados: {}\\n'.format(total_tweets))\n",
    "\n",
    "    print(\"{} tweets son del tipo 'retweet', un {:.2f}% del total.\".format(retweet_count, retweet_count/total_tweets*100))        \n",
    "    print(\"{} tweets son del tipo 'reply', un {:.2f}% del total.\".format(reply_count, reply_count/total_tweets*100))        \n",
    "    print(\"{} tweets son del tipo 'cita pura', un {:.2f}% del total.\".format(pure_quote_count, pure_quote_count/total_tweets*100))        \n",
    "    print(\"{} tweets son del tipo 'mención pura', un {:.2f}% del total.\".format(just_ment_count, just_ment_count/total_tweets*100))        \n",
    "    print(\"{} tweets son del tipo 'simple', un {:.2f}% del total.\\n\".format(simple_count, simple_count/total_tweets*100))        \n",
    "    print(\"Durante el procesado de los tweets ha habido {} errores.\\n\".format(errors))\n",
    "    \n",
    "    print(\"El grafo resultante tiene un total de {} nodos y {} aristas\\n\".format(twitter_dg.number_of_nodes(), twitter_dg.number_of_edges()))\n",
    "    \n",
    "    return twitter_dg\n"
   ]
  },
  {
   "cell_type": "code",
   "execution_count": 3,
   "metadata": {},
   "outputs": [],
   "source": [
    "# Input folders.\n",
    "folder_pre_8M = r'C:\\UOC\\TFM\\Procesado_tweets\\03_Gen_grafos\\Input\\6_7_M'\n",
    "folder_8M = r'C:\\UOC\\TFM\\Procesado_tweets\\03_Gen_grafos\\Input\\8M'\n",
    "folder_post_8M = r'C:\\UOC\\TFM\\Procesado_tweets\\03_Gen_grafos\\Input\\9_10_M'"
   ]
  },
  {
   "cell_type": "code",
   "execution_count": 5,
   "metadata": {},
   "outputs": [
    {
     "name": "stdout",
     "output_type": "stream",
     "text": [
      "ESTADÍSTICAS DEL GRAFO OBTENIDO:\n",
      "\n",
      "Número total de tweets procesados: 167738\n",
      "\n",
      "139240 tweets son del tipo 'retweet', un 83.01% del total.\n",
      "3524 tweets son del tipo 'reply', un 2.10% del total.\n",
      "3244 tweets son del tipo 'cita pura', un 1.93% del total.\n",
      "4493 tweets son del tipo 'mención pura', un 2.68% del total.\n",
      "17237 tweets son del tipo 'simple', un 10.28% del total.\n",
      "\n",
      "Durante el procesado de los tweets ha habido 0 errores.\n",
      "\n",
      "El grafo resultante tiene un total de 102716 nodos y 174973 aristas\n",
      "\n"
     ]
    }
   ],
   "source": [
    "# Generation of the 6M and 7M graph.\n",
    "graph_pre_8M = create_graph(folder_pre_8M)"
   ]
  },
  {
   "cell_type": "code",
   "execution_count": 4,
   "metadata": {
    "scrolled": true
   },
   "outputs": [
    {
     "name": "stdout",
     "output_type": "stream",
     "text": [
      "ESTADÍSTICAS DEL GRAFO OBTENIDO:\n",
      "\n",
      "Número total de tweets procesados: 951821\n",
      "\n",
      "783855 tweets son del tipo 'retweet', un 82.35% del total.\n",
      "15784 tweets son del tipo 'reply', un 1.66% del total.\n",
      "28409 tweets son del tipo 'cita pura', un 2.98% del total.\n",
      "11163 tweets son del tipo 'mención pura', un 1.17% del total.\n",
      "112610 tweets son del tipo 'simple', un 11.83% del total.\n",
      "\n",
      "Durante el procesado de los tweets ha habido 1 errores.\n",
      "\n",
      "El grafo resultante tiene un total de 472376 nodos y 880375 aristas\n",
      "\n"
     ]
    }
   ],
   "source": [
    "# Generation of the 8M graph.\n",
    "graph_8M = create_graph(folder_8M)"
   ]
  },
  {
   "cell_type": "code",
   "execution_count": 6,
   "metadata": {
    "scrolled": true
   },
   "outputs": [
    {
     "name": "stdout",
     "output_type": "stream",
     "text": [
      "ESTADÍSTICAS DEL GRAFO OBTENIDO:\n",
      "\n",
      "Número total de tweets procesados: 482099\n",
      "\n",
      "438090 tweets son del tipo 'retweet', un 90.87% del total.\n",
      "5147 tweets son del tipo 'reply', un 1.07% del total.\n",
      "3977 tweets son del tipo 'cita pura', un 0.82% del total.\n",
      "3570 tweets son del tipo 'mención pura', un 0.74% del total.\n",
      "31315 tweets son del tipo 'simple', un 6.50% del total.\n",
      "\n",
      "Durante el procesado de los tweets ha habido 0 errores.\n",
      "\n",
      "El grafo resultante tiene un total de 292409 nodos y 475588 aristas\n",
      "\n"
     ]
    }
   ],
   "source": [
    "# Generation of the 9M and 10M graph.\n",
    "graph_post_8M = create_graph(folder_post_8M)"
   ]
  },
  {
   "cell_type": "markdown",
   "metadata": {},
   "source": [
    "LIMPIEZA DE LOS GRAFOS"
   ]
  },
  {
   "cell_type": "code",
   "execution_count": 7,
   "metadata": {},
   "outputs": [
    {
     "name": "stdout",
     "output_type": "stream",
     "text": [
      "LIMPIEZA DEL GRAFO ANTERIOR AL 8M:\n",
      "\n",
      "El grafo tiene 3171 loops.\n",
      "Después de la limpieza el grafo tiene 0 loops.\n",
      "\n",
      "El grafo resultante tiene un total de 102716 nodos y 171802 aristas\n",
      "\n"
     ]
    }
   ],
   "source": [
    "### CLEANING OF THE 6M AND 7M GRAPH\n",
    "print(\"LIMPIEZA DEL GRAFO ANTERIOR AL 8M:\\n\")\n",
    "# Check how many loops are present in the graph.\n",
    "print(\"El grafo tiene {} loops.\".format(nx.number_of_selfloops(graph_pre_8M)))\n",
    "# Remove all loops\n",
    "graph_pre_8M.remove_edges_from(nx.selfloop_edges(graph_pre_8M))\n",
    "# Check that all loops have been removed succesfully.\n",
    "print(\"Después de la limpieza el grafo tiene {} loops.\\n\".format(nx.number_of_selfloops(graph_pre_8M)))\n",
    "# Check how many nodes and edges has the new graph.\n",
    "print(\"El grafo resultante tiene un total de {} nodos y {} aristas\\n\".format(graph_pre_8M.number_of_nodes(), graph_pre_8M.number_of_edges()))\n"
   ]
  },
  {
   "cell_type": "code",
   "execution_count": 8,
   "metadata": {},
   "outputs": [
    {
     "name": "stdout",
     "output_type": "stream",
     "text": [
      "LIMPIEZA DEL GRAFO DEL 8M:\n",
      "\n",
      "El grafo tiene 11139 loops.\n",
      "Después de la limpieza el grafo tiene 0 loops.\n",
      "\n",
      "El grafo resultante tiene un total de 472376 nodos y 869236 aristas\n",
      "\n"
     ]
    }
   ],
   "source": [
    "### CLEANING OF THE 8M GRAPH\n",
    "print(\"LIMPIEZA DEL GRAFO DEL 8M:\\n\")\n",
    "# Check how many loops are present in the graph.\n",
    "print(\"El grafo tiene {} loops.\".format(nx.number_of_selfloops(graph_8M)))\n",
    "# Remove all loops\n",
    "graph_8M.remove_edges_from(nx.selfloop_edges(graph_8M))\n",
    "# Check that all loops have been removed succesfully.\n",
    "print(\"Después de la limpieza el grafo tiene {} loops.\\n\".format(nx.number_of_selfloops(graph_8M)))\n",
    "# Check how many nodes and edges has the new graph.\n",
    "print(\"El grafo resultante tiene un total de {} nodos y {} aristas\\n\".format(graph_8M.number_of_nodes(), graph_8M.number_of_edges()))\n"
   ]
  },
  {
   "cell_type": "code",
   "execution_count": 9,
   "metadata": {},
   "outputs": [
    {
     "name": "stdout",
     "output_type": "stream",
     "text": [
      "LIMPIEZA DEL GRAFO POSTERIOR AL 8M:\n",
      "\n",
      "El grafo tiene 3610 loops.\n",
      "Después de la limpieza el grafo tiene 0 loops.\n",
      "\n",
      "El grafo resultante tiene un total de 292409 nodos y 471978 aristas\n",
      "\n"
     ]
    }
   ],
   "source": [
    "### CLEANING OF THE 9M AND 10M GRAPH\n",
    "print(\"LIMPIEZA DEL GRAFO POSTERIOR AL 8M:\\n\")\n",
    "# Check how many loops are present in the graph.\n",
    "print(\"El grafo tiene {} loops.\".format(nx.number_of_selfloops(graph_post_8M)))\n",
    "# Remove all loops\n",
    "graph_post_8M.remove_edges_from(nx.selfloop_edges(graph_post_8M))\n",
    "# Check that all loops have been removed succesfully.\n",
    "print(\"Después de la limpieza el grafo tiene {} loops.\\n\".format(nx.number_of_selfloops(graph_post_8M)))\n",
    "# Check how many nodes and edges has the new graph.\n",
    "print(\"El grafo resultante tiene un total de {} nodos y {} aristas\\n\".format(graph_post_8M.number_of_nodes(), graph_post_8M.number_of_edges()))\n"
   ]
  },
  {
   "cell_type": "markdown",
   "metadata": {},
   "source": [
    "EXPORTACIÓN DE LOS GRAFOS AL FORMATO GRAPHML"
   ]
  },
  {
   "cell_type": "code",
   "execution_count": 10,
   "metadata": {},
   "outputs": [],
   "source": [
    "# Export all graphs to .graphml format.\n",
    "nx.write_graphml(graph_pre_8M, r'C:\\UOC\\TFM\\Procesado_tweets\\03_Gen_grafos\\Output\\graph_pre_8M.graphml')\n",
    "nx.write_graphml(graph_8M, r'C:\\UOC\\TFM\\Procesado_tweets\\03_Gen_grafos\\Output\\graph_8M.graphml')\n",
    "nx.write_graphml(graph_post_8M, r'C:\\UOC\\TFM\\Procesado_tweets\\03_Gen_grafos\\Output\\graph_post_8M.graphml')"
   ]
  }
 ],
 "metadata": {
  "kernelspec": {
   "display_name": "Python 3",
   "language": "python",
   "name": "python3"
  },
  "language_info": {
   "codemirror_mode": {
    "name": "ipython",
    "version": 3
   },
   "file_extension": ".py",
   "mimetype": "text/x-python",
   "name": "python",
   "nbconvert_exporter": "python",
   "pygments_lexer": "ipython3",
   "version": "3.7.0"
  }
 },
 "nbformat": 4,
 "nbformat_minor": 2
}
